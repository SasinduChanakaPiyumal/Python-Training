{
 "cells": [
  {
   "cell_type": "markdown",
   "id": "ce2ad88b",
   "metadata": {},
   "source": [
    "# import a dataset"
   ]
  },
  {
   "cell_type": "code",
   "execution_count": 1,
   "id": "4ed3d65f",
   "metadata": {},
   "outputs": [],
   "source": [
    "import pandas as pd        # import libries \n",
    "from scipy import stats\n",
    "import seaborn as sns\n",
    "import matplotlib.pyplot as plt\n",
    "from sklearn.preprocessing import LabelEncoder\n",
    "from sklearn.model_selection import train_test_split\n",
    "from sklearn.linear_model import LinearRegression\n",
    "import numpy as np\n",
    "from sklearn.metrics import mean_squared_error\n",
    "from sklearn.metrics import r2_score"
   ]
  },
  {
   "cell_type": "code",
   "execution_count": 2,
   "id": "d49f7146",
   "metadata": {},
   "outputs": [],
   "source": [
    "df = pd.read_csv(\"housing_price_dataset.csv\")  #import the data set"
   ]
  },
  {
   "cell_type": "code",
   "execution_count": 3,
   "id": "2fefced5",
   "metadata": {},
   "outputs": [
    {
     "data": {
      "text/html": [
       "<div>\n",
       "<style scoped>\n",
       "    .dataframe tbody tr th:only-of-type {\n",
       "        vertical-align: middle;\n",
       "    }\n",
       "\n",
       "    .dataframe tbody tr th {\n",
       "        vertical-align: top;\n",
       "    }\n",
       "\n",
       "    .dataframe thead th {\n",
       "        text-align: right;\n",
       "    }\n",
       "</style>\n",
       "<table border=\"1\" class=\"dataframe\">\n",
       "  <thead>\n",
       "    <tr style=\"text-align: right;\">\n",
       "      <th></th>\n",
       "      <th>SquareFeet</th>\n",
       "      <th>Bedrooms</th>\n",
       "      <th>Bathrooms</th>\n",
       "      <th>Neighborhood</th>\n",
       "      <th>YearBuilt</th>\n",
       "      <th>Price</th>\n",
       "    </tr>\n",
       "  </thead>\n",
       "  <tbody>\n",
       "    <tr>\n",
       "      <th>0</th>\n",
       "      <td>2126</td>\n",
       "      <td>4</td>\n",
       "      <td>1</td>\n",
       "      <td>Rural</td>\n",
       "      <td>1969</td>\n",
       "      <td>215355.283618</td>\n",
       "    </tr>\n",
       "    <tr>\n",
       "      <th>1</th>\n",
       "      <td>2459</td>\n",
       "      <td>3</td>\n",
       "      <td>2</td>\n",
       "      <td>Rural</td>\n",
       "      <td>1980</td>\n",
       "      <td>195014.221626</td>\n",
       "    </tr>\n",
       "    <tr>\n",
       "      <th>2</th>\n",
       "      <td>1860</td>\n",
       "      <td>2</td>\n",
       "      <td>1</td>\n",
       "      <td>Suburb</td>\n",
       "      <td>1970</td>\n",
       "      <td>306891.012076</td>\n",
       "    </tr>\n",
       "    <tr>\n",
       "      <th>3</th>\n",
       "      <td>2294</td>\n",
       "      <td>2</td>\n",
       "      <td>1</td>\n",
       "      <td>Urban</td>\n",
       "      <td>1996</td>\n",
       "      <td>206786.787153</td>\n",
       "    </tr>\n",
       "    <tr>\n",
       "      <th>4</th>\n",
       "      <td>2130</td>\n",
       "      <td>5</td>\n",
       "      <td>2</td>\n",
       "      <td>Suburb</td>\n",
       "      <td>2001</td>\n",
       "      <td>272436.239065</td>\n",
       "    </tr>\n",
       "    <tr>\n",
       "      <th>...</th>\n",
       "      <td>...</td>\n",
       "      <td>...</td>\n",
       "      <td>...</td>\n",
       "      <td>...</td>\n",
       "      <td>...</td>\n",
       "      <td>...</td>\n",
       "    </tr>\n",
       "    <tr>\n",
       "      <th>49995</th>\n",
       "      <td>1282</td>\n",
       "      <td>5</td>\n",
       "      <td>3</td>\n",
       "      <td>Rural</td>\n",
       "      <td>1975</td>\n",
       "      <td>100080.865895</td>\n",
       "    </tr>\n",
       "    <tr>\n",
       "      <th>49996</th>\n",
       "      <td>2854</td>\n",
       "      <td>2</td>\n",
       "      <td>2</td>\n",
       "      <td>Suburb</td>\n",
       "      <td>1988</td>\n",
       "      <td>374507.656727</td>\n",
       "    </tr>\n",
       "    <tr>\n",
       "      <th>49997</th>\n",
       "      <td>2979</td>\n",
       "      <td>5</td>\n",
       "      <td>3</td>\n",
       "      <td>Suburb</td>\n",
       "      <td>1962</td>\n",
       "      <td>384110.555590</td>\n",
       "    </tr>\n",
       "    <tr>\n",
       "      <th>49998</th>\n",
       "      <td>2596</td>\n",
       "      <td>5</td>\n",
       "      <td>2</td>\n",
       "      <td>Rural</td>\n",
       "      <td>1984</td>\n",
       "      <td>380512.685957</td>\n",
       "    </tr>\n",
       "    <tr>\n",
       "      <th>49999</th>\n",
       "      <td>1572</td>\n",
       "      <td>5</td>\n",
       "      <td>3</td>\n",
       "      <td>Rural</td>\n",
       "      <td>2011</td>\n",
       "      <td>221618.583218</td>\n",
       "    </tr>\n",
       "  </tbody>\n",
       "</table>\n",
       "<p>50000 rows × 6 columns</p>\n",
       "</div>"
      ],
      "text/plain": [
       "       SquareFeet  Bedrooms  Bathrooms Neighborhood  YearBuilt          Price\n",
       "0            2126         4          1        Rural       1969  215355.283618\n",
       "1            2459         3          2        Rural       1980  195014.221626\n",
       "2            1860         2          1       Suburb       1970  306891.012076\n",
       "3            2294         2          1        Urban       1996  206786.787153\n",
       "4            2130         5          2       Suburb       2001  272436.239065\n",
       "...           ...       ...        ...          ...        ...            ...\n",
       "49995        1282         5          3        Rural       1975  100080.865895\n",
       "49996        2854         2          2       Suburb       1988  374507.656727\n",
       "49997        2979         5          3       Suburb       1962  384110.555590\n",
       "49998        2596         5          2        Rural       1984  380512.685957\n",
       "49999        1572         5          3        Rural       2011  221618.583218\n",
       "\n",
       "[50000 rows x 6 columns]"
      ]
     },
     "execution_count": 3,
     "metadata": {},
     "output_type": "execute_result"
    }
   ],
   "source": [
    "df"
   ]
  },
  {
   "cell_type": "markdown",
   "id": "1d5603eb",
   "metadata": {},
   "source": [
    "# Exploratory Data Analysis"
   ]
  },
  {
   "cell_type": "code",
   "execution_count": 4,
   "id": "eaa7d916",
   "metadata": {},
   "outputs": [],
   "source": [
    "df = df.drop(columns=['YearBuilt']) # remove the unnecessary columns"
   ]
  },
  {
   "cell_type": "code",
   "execution_count": 5,
   "id": "ca360050",
   "metadata": {},
   "outputs": [
    {
     "data": {
      "image/png": "[encoded data removed]",
      "text/plain": [
       "<Figure size 432x288 with 1 Axes>"
      ]
     },
     "metadata": {
      "needs_background": "light"
     },
     "output_type": "display_data"
    }
   ],
   "source": [
    "column_name = 'Price'\n",
    "num_bins = 10 # Specify the number of bins for the histogram\n",
    "plt.hist(df[column_name], bins=num_bins, edgecolor='black') # Create a histogram with specified bins\n",
    "plt.xlabel(column_name) # Add labels and title\n",
    "plt.ylabel('Frequency')\n",
    "plt.title(f'Histogram of {column_name}')\n",
    "plt.show() # Show the plot"
   ]
  },
  {
   "cell_type": "code",
   "execution_count": 6,
   "id": "e763cf0c",
   "metadata": {},
   "outputs": [
    {
     "data": {
      "image/png": "[encoded data removed]",
      "text/plain": [
       "<Figure size 576x576 with 1 Axes>"
      ]
     },
     "metadata": {},
     "output_type": "display_data"
    }
   ],
   "source": [
    "column_name = 'Bedrooms'\n",
    "category_counts = df[column_name].value_counts() # Count the occurrences of each category in the column\n",
    "plt.figure(figsize=(8, 8)) # Create a pie chart\n",
    "plt.pie(category_counts, labels=category_counts.index, autopct='%1.1f%%', startangle=90, colors=plt.cm.Paired.colors)\n",
    "plt.title(f'Pie Chart of {column_name}') # Add a title\n",
    "plt.show() # Show the plot"
   ]
  },
  {
   "cell_type": "code",
   "execution_count": 7,
   "id": "b1c3e8f0",
   "metadata": {},
   "outputs": [
    {
     "data": {
      "image/png": "[encoded data removed]",
      "text/plain": [
       "<Figure size 720x432 with 1 Axes>"
      ]
     },
     "metadata": {
      "needs_background": "light"
     },
     "output_type": "display_data"
    }
   ],
   "source": [
    "\n",
    "\n",
    "categorical_column = 'Neighborhood'\n",
    "numerical_column = 'Price'\n",
    "\n",
    "mean_prices = df.groupby(categorical_column)[numerical_column].mean().reset_index() # Calculate the mean for each neighborhood\n",
    "\n",
    "plt.figure(figsize=(10, 6)) # Create a bar plot\n",
    "sns.barplot(x=categorical_column, y=numerical_column, data=mean_prices)\n",
    "\n",
    "plt.xlabel(categorical_column)\n",
    "plt.ylabel(f'Mean {numerical_column}')\n",
    "plt.title(f'Mean {numerical_column} by {categorical_column}')\n",
    "\n",
    "plt.show()"
   ]
  },
  {
   "cell_type": "markdown",
   "id": "88ab9ebd",
   "metadata": {},
   "source": [
    "# Data Preprocessing"
   ]
  },
  {
   "cell_type": "code",
   "execution_count": 9,
   "id": "137fba98",
   "metadata": {},
   "outputs": [
    {
     "name": "stdout",
     "output_type": "stream",
     "text": [
      "SquareFeet      0\n",
      "Bedrooms        0\n",
      "Bathrooms       0\n",
      "Neighborhood    0\n",
      "Price           0\n",
      "dtype: int64\n"
     ]
    }
   ],
   "source": [
    "print(df.isnull().sum())  # check missing values"
   ]
  },
  {
   "cell_type": "code",
   "execution_count": 10,
   "id": "21dd7172",
   "metadata": {},
   "outputs": [],
   "source": [
    "df['SquareFeet'] = df['SquareFeet'].fillna(df['SquareFeet'].mean())  # fill numerical variables using mean\n",
    "df['Price'] = df['Price'].fillna(df['Price'].mean())"
   ]
  },
  {
   "cell_type": "code",
   "execution_count": 11,
   "id": "153dd73f",
   "metadata": {},
   "outputs": [],
   "source": [
    "df['Bedrooms'] = df['Bedrooms'].fillna(df['Bedrooms'].mode()[0])  # fill categorical variable using mode\n",
    "df['Neighborhood'] = df['Neighborhood'].fillna(df['Neighborhood'].mode()[0])\n",
    "df['Neighborhood'] = df['Neighborhood'].fillna(df['Neighborhood'].mode()[0])"
   ]
  },
  {
   "cell_type": "code",
   "execution_count": 12,
   "id": "48e0ba0e",
   "metadata": {},
   "outputs": [
    {
     "name": "stdout",
     "output_type": "stream",
     "text": [
      "       SquareFeet  Bedrooms  Bathrooms Neighborhood          Price\n",
      "0            2126         4          1        Rural  215355.283618\n",
      "1            2459         3          2        Rural  195014.221626\n",
      "2            1860         2          1       Suburb  306891.012076\n",
      "3            2294         2          1        Urban  206786.787153\n",
      "4            2130         5          2       Suburb  272436.239065\n",
      "...           ...       ...        ...          ...            ...\n",
      "49995        1282         5          3        Rural  100080.865895\n",
      "49996        2854         2          2       Suburb  374507.656727\n",
      "49997        2979         5          3       Suburb  384110.555590\n",
      "49998        2596         5          2        Rural  380512.685957\n",
      "49999        1572         5          3        Rural  221618.583218\n",
      "\n",
      "[49965 rows x 5 columns]\n"
     ]
    }
   ],
   "source": [
    "\n",
    "column_name = 'Price' # Specify the column containing numerical data with potential outliers\n",
    "\n",
    "z_scores = stats.zscore(df[column_name]) # Calculate the Z-score for the specified column\n",
    "\n",
    "threshold = 3   # Define a threshold for Z-score (e.g., 3 standard deviations)\n",
    "\n",
    "outlier_indices = abs(z_scores) > threshold # Identify the indices of outliers\n",
    "\n",
    "df = df[~outlier_indices] # Remove outliers from the DataFrame\n",
    "print(df)"
   ]
  },
  {
   "cell_type": "code",
   "execution_count": 13,
   "id": "e680fa27",
   "metadata": {},
   "outputs": [
    {
     "name": "stdout",
     "output_type": "stream",
     "text": [
      "       SquareFeet  Bedrooms  Bathrooms Neighborhood          Price\n",
      "0            2126         4          1        Rural  215355.283618\n",
      "1            2459         3          2        Rural  195014.221626\n",
      "2            1860         2          1       Suburb  306891.012076\n",
      "3            2294         2          1        Urban  206786.787153\n",
      "4            2130         5          2       Suburb  272436.239065\n",
      "...           ...       ...        ...          ...            ...\n",
      "49995        1282         5          3        Rural  100080.865895\n",
      "49996        2854         2          2       Suburb  374507.656727\n",
      "49997        2979         5          3       Suburb  384110.555590\n",
      "49998        2596         5          2        Rural  380512.685957\n",
      "49999        1572         5          3        Rural  221618.583218\n",
      "\n",
      "[49965 rows x 5 columns]\n"
     ]
    }
   ],
   "source": [
    "\n",
    "\n",
    "column_name = 'SquareFeet' # Specify the column containing numerical data with potential outliers\n",
    "\n",
    "z_scores = stats.zscore(df[column_name])# Calculate the Z-score for the specified column\n",
    "\n",
    "threshold = 3 # Define a threshold for Z-score (e.g., 3 standard deviations)\n",
    "\n",
    "outlier_indices = abs(z_scores) > threshold # Identify the indices of outliers\n",
    "\n",
    "df = df[~outlier_indices] # Remove outliers from the DataFrame\n",
    "\n",
    "print(df)"
   ]
  },
  {
   "cell_type": "code",
   "execution_count": 14,
   "id": "47e8d580",
   "metadata": {},
   "outputs": [],
   "source": [
    "label_encoder = LabelEncoder()\n",
    "\n",
    "df['Bedrooms'] = label_encoder.fit_transform(df['Bedrooms'])  # categorical variable convert to label encoding\n",
    "df['Bathrooms'] = label_encoder.fit_transform(df['Bathrooms'])\n",
    "df['Neighborhood'] = label_encoder.fit_transform(df['Neighborhood'])\n"
   ]
  },
  {
   "cell_type": "markdown",
   "id": "0fe6c0be",
   "metadata": {},
   "source": [
    "# Multiple Linear Regression"
   ]
  },
  {
   "cell_type": "code",
   "execution_count": 15,
   "id": "e596790d",
   "metadata": {},
   "outputs": [],
   "source": [
    "\n",
    "X = df.drop('Price', axis=1) # Drop the target variable to get the features\n",
    "y = df['Price']  # Select the target variable\n",
    "\n",
    "X_train, X_test, y_train, y_test = train_test_split(X, y, test_size=0.2, random_state=42) # Split the data into training and testing sets"
   ]
  },
  {
   "cell_type": "code",
   "execution_count": 16,
   "id": "7c2769b8",
   "metadata": {},
   "outputs": [],
   "source": [
    "model_1= LinearRegression()\n",
    "model_1.fit(X_train, y_train) # Train the model\n",
    "y_pred_1 = model_1.predict(X_test) # Make predictions on the test set"
   ]
  },
  {
   "cell_type": "code",
   "execution_count": 17,
   "id": "bf42df1d",
   "metadata": {},
   "outputs": [
    {
     "name": "stdout",
     "output_type": "stream",
     "text": [
      "Mean Squared Error (MSE): 2504079369.806855\n",
      "R-squared (R2) Score: 0.5716611135317957\n"
     ]
    }
   ],
   "source": [
    "mse_1 = mean_squared_error(y_test, y_pred_1) # Calculate mse\n",
    "r2_1 = r2_score(y_test, y_pred_1) # Calculate r**2\n",
    "print(f'Mean Squared Error (MSE): {mse_1}')\n",
    "print(f'R-squared (R2) Score: {r2_1}') "
   ]
  },
  {
   "cell_type": "markdown",
   "id": "aba4a2c9",
   "metadata": {},
   "source": [
    "# Simple Linear Regression"
   ]
  },
  {
   "cell_type": "code",
   "execution_count": 18,
   "id": "c95ba8c3",
   "metadata": {},
   "outputs": [],
   "source": [
    "X = df[['SquareFeet']]\n",
    "y = df['Price']\n",
    "\n",
    "# Split the data into training and testing sets\n",
    "X_train, X_test, y_train, y_test = train_test_split(X, y, test_size=0.2, random_state=42) # Split the data into training and testing sets\n",
    "\n"
   ]
  },
  {
   "cell_type": "code",
   "execution_count": 19,
   "id": "77665b07",
   "metadata": {},
   "outputs": [],
   "source": [
    "model_2= LinearRegression()# Create a linear regression model\n",
    "model_2.fit(X_train, y_train)# Train the model\n",
    "y_pred_2 = model_2.predict(X_test) # Make predictions on the test set\n"
   ]
  },
  {
   "cell_type": "code",
   "execution_count": 21,
   "id": "a968d27d",
   "metadata": {},
   "outputs": [
    {
     "name": "stdout",
     "output_type": "stream",
     "text": [
      "Mean Squared Error (MSE): 2544338490.233313\n",
      "R-squared (R2) Score: 0.5647745319714882\n"
     ]
    }
   ],
   "source": [
    "mse_2 = mean_squared_error(y_test, y_pred_2) # Calculate mse\n",
    "r2_2 = r2_score(y_test, y_pred_2) # Calculate r**2\n",
    "print(f'Mean Squared Error (MSE): {mse_2}')\n",
    "print(f'R-squared (R2) Score: {r2_2}')"
   ]
  }
 ],
 "metadata": {
  "kernelspec": {
   "display_name": "Python 3 (ipykernel)",
   "language": "python",
   "name": "python3"
  },
  "language_info": {
   "codemirror_mode": {
    "name": "ipython",
    "version": 3
   },
   "file_extension": ".py",
   "mimetype": "text/x-python",
   "name": "python",
   "nbconvert_exporter": "python",
   "pygments_lexer": "ipython3",
   "version": "3.9.12"
  }
 },
 "nbformat": 4,
 "nbformat_minor": 5
}
